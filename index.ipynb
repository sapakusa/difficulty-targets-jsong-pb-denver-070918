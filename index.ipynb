{
 "cells": [
  {
   "cell_type": "markdown",
   "metadata": {},
   "source": [
    "# Difficulty Targets\n",
    "\n",
    "Target is a bit hard to work with. We know that this is the number that the hash must be below, but as humans, it's hard to fathom the difference between a 180-bit number and a 190-bit number. The first is a thousand times smaller, but from looking at targets, it's not easy to contextualize.\n",
    "\n",
    "To make different targets easier to compare, the concept of difficulty was born. Essentialy, difficulty is inversely proportional to target to make comparisons easier.\n",
    "\n",
    "The difficulty on testnet when there haven't been any blocks found in 20 minutes resets to 1. This gives us context for how difficult mainnet is. Generally, the difficulty number can be thought of as how much more difficult mainnet is than testnet.\n",
    "\n",
    "This is the number that gets shown in block explorers and so on as difficulty is a much more intuitive way to understand what's going on in terms of effort required to create a new block."
   ]
  },
  {
   "cell_type": "code",
   "execution_count": 1,
   "metadata": {},
   "outputs": [
    {
     "name": "stdout",
     "output_type": "stream",
     "text": [
      "0000000000000000013ce9000000000000000000000000000000000000000000\n"
     ]
    }
   ],
   "source": [
    "# Calculating Target from Bits Example\n",
    "\n",
    "from helper import little_endian_to_int\n",
    "\n",
    "bits = bytes.fromhex('e93c0118')\n",
    "exponent = bits[-1]\n",
    "coefficient = little_endian_to_int(bits[:-1])\n",
    "target = coefficient*2**(8*(exponent-3))\n",
    "print('{:x}'.format(target).zfill(64))"
   ]
  },
  {
   "cell_type": "code",
   "execution_count": 1,
   "metadata": {},
   "outputs": [
    {
     "name": "stdout",
     "output_type": "stream",
     "text": [
      "888171856257\n"
     ]
    }
   ],
   "source": [
    "# Calculating Difficulty from Target Example\n",
    "\n",
    "from helper import little_endian_to_int\n",
    "\n",
    "bits = bytes.fromhex('e93c0118')\n",
    "exponent = bits[-1]\n",
    "coefficient = little_endian_to_int(bits[:-1])\n",
    "target = coefficient*2**(8*(exponent-3))\n",
    "\n",
    "bits_min = bytes.fromhex('ffff001d')\n",
    "exponent_min = bits_min[-1]\n",
    "coefficient_min = little_endian_to_int(bits_min[:-1])\n",
    "min = coefficient_min*2**(8*(exponent_min-3))\n",
    "\n",
    "difficulty = min // target\n",
    "print(difficulty)"
   ]
  },
  {
   "cell_type": "markdown",
   "metadata": {},
   "source": [
    "### Try it\n",
    "\n",
    "#### Calculate the target and difficulty for these bits:\n",
    "```\n",
    "f2881718\n",
    "```\n",
    "\n",
    "Bits to target formula is \n",
    "\n",
    "\\\\(coefficient\\cdot256^{(exponent-3)}\\\\) \n",
    "\n",
    "where coefficient is the first three bytes in little endian and exponent is the last byte.\n",
    "\n",
    "Target to Difficulty formula is \n",
    "\n",
    "\\\\(difficulty = min / target\\\\)\n",
    "\n",
    "where \\\\(min = 0xffff\\cdot256^{(0x1d-3)}\\\\)"
   ]
  },
  {
   "cell_type": "code",
   "execution_count": 7,
   "metadata": {},
   "outputs": [
    {
     "name": "stdout",
     "output_type": "stream",
     "text": [
      "00000000000000001788f2000000000000000000000000000000000000000000\n",
      "46717549644.70642\n"
     ]
    }
   ],
   "source": [
    "from helper import little_endian_to_int\n",
    "\n",
    "hex_bits = 'f2881718'\n",
    "\n",
    "# bytes.fromhex to get the bits\n",
    "bits = bytes.fromhex(hex_bits)\n",
    "# last byte is exponent\n",
    "exponent = bits[-1]\n",
    "# first three bytes are the coefficient in little endian\n",
    "coef = little_endian_to_int(bits[:-1])\n",
    "# plug into formula coefficient * 256^(exponent-3) to get the target\n",
    "target = coef * 2**(8 * (exponent-3))\n",
    "# print target using print('{:x}'.format(target).zfill(64))\n",
    "print('{:x}'.format(target).zfill(64))\n",
    "\n",
    "hex_min_bits = 'ffff001d'\n",
    "# do the same for the min_bits for min target\n",
    "\n",
    "min_bits = bytes.fromhex(hex_min_bits)\n",
    "min_exponent = min_bits[-1]\n",
    "min_coef = little_endian_to_int(min_bits[:-1])\n",
    "min_target = min_coef * 2 ** (8 * (min_exponent - 3))\n",
    "# difficulty is min target / target\n",
    "diff = min_target / target\n",
    "print(diff)"
   ]
  },
  {
   "cell_type": "markdown",
   "metadata": {},
   "source": [
    "### Test Driven Exercise"
   ]
  },
  {
   "cell_type": "code",
   "execution_count": 5,
   "metadata": {},
   "outputs": [],
   "source": [
    "from io import BytesIO\n",
    "from block import Block\n",
    "\n",
    "class Block(Block):\n",
    "\n",
    "    def target(self):\n",
    "        '''Returns the proof-of-work target based on the bits'''\n",
    "        # last byte is exponent\n",
    "        exp = self.bits[-1]\n",
    "        # the first three bytes are the coefficient in little endian\n",
    "        coef = little_endian_to_int(self.bits[:-1])\n",
    "        # the formula is:\n",
    "        # coefficient * 2**(8*(exponent-3))\n",
    "        return coef * 2**(8*(exponent-3))\n",
    "\n",
    "    def difficulty(self):\n",
    "        '''Returns the block difficulty based on the bits'''\n",
    "        # note difficulty is (target of lowest difficulty) / (self's target)\n",
    "        # lowest difficulty has bits that equal 0xffff001d\n",
    "        lowest = 0xffff * 2**(8*(0x1d-3))\n",
    "        return lowest / self.target()"
   ]
  },
  {
   "cell_type": "code",
   "execution_count": null,
   "metadata": {},
   "outputs": [],
   "source": []
  }
 ],
 "metadata": {
  "kernelspec": {
   "display_name": "Python 3",
   "language": "python",
   "name": "python3"
  },
  "language_info": {
   "codemirror_mode": {
    "name": "ipython",
    "version": 3
   },
   "file_extension": ".py",
   "mimetype": "text/x-python",
   "name": "python",
   "nbconvert_exporter": "python",
   "pygments_lexer": "ipython3",
   "version": "3.6.4"
  }
 },
 "nbformat": 4,
 "nbformat_minor": 2
}
